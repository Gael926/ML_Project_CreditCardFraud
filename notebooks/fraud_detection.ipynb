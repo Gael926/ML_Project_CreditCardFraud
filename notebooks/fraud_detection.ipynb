{
 "cells": [
  {
   "cell_type": "markdown",
   "id": "9b631be3",
   "metadata": {},
   "source": [
    "# Credit Card Fraud Detection\n",
    "\n",
    "## Introduction\n",
    "Credit card fraud is a major issue in the financial industry, leading to significant financial losses each year.  \n",
    "In this project, I aim to build a machine learning model that can identify fraudulent transactions from legitimate ones.  \n",
    "\n",
    "I use the **Credit Card Fraud Detection dataset** from Kaggle, which contains **284,807 transactions** made by European cardholders in September 2013. Among them, only **492 transactions are frauds** (≈0.17%).  \n",
    "\n",
    "## Challenge\n",
    "The dataset is **highly imbalanced**, which makes the task much more complex.  \n",
    "- Fraud cases are rare, but critical to detect.  \n",
    "- Accuracy alone is not a reliable metric.  \n",
    "\n",
    "## Project objective\n",
    "- I will compare different models: **Logistic Regression, Random Forest, Gradient Boosting (XGBoost)**.  \n",
    "- I will use appropriate evaluation metrics for imbalanced classification:  \n",
    "  - **ROC-AUC**  \n",
    "  - **Recall** (sensitivity for frauds)  \n",
    "  - **Precision-Recall curve**  \n",
    "- My goal is to build a clean, reproducible ML pipeline ready for production use.  \n",
    "\n",
    "---\n"
   ]
  },
  {
   "cell_type": "markdown",
   "id": "652047f6",
   "metadata": {},
   "source": [
    "## Dataset description\n",
    "\n",
    "The dataset I am working with contains transactions made by European cardholders in September 2013.  \n",
    "It includes **284,807 rows** and **31 columns**:\n",
    "\n",
    "- **Time**: the number of seconds elapsed between each transaction and the first transaction in the dataset.  \n",
    "- **Amount**: the transaction amount.  \n",
    "- **V1 – V28**: the result of a PCA transformation applied by the dataset creators to protect the confidentiality of the original features.  \n",
    "  - These are numerical features with no direct interpretation.  \n",
    "- **Class**: this is the target variable  \n",
    "  - `0` = legitimate transaction  \n",
    "  - `1` = fraudulent transaction  \n",
    "\n",
    "👉 A key point I noticed: there are no missing values in this dataset, so I don't need to perform any imputation.  \n"
   ]
  },
  {
   "cell_type": "code",
   "execution_count": 1,
   "id": "3694c461",
   "metadata": {},
   "outputs": [],
   "source": [
    "# Core\n",
    "import numpy as np\n",
    "import pandas as pd\n",
    "\n",
    "# Visualization\n",
    "import matplotlib.pyplot as plt\n",
    "import seaborn as sns\n",
    "\n",
    "# Preprocessing & pipeline\n",
    "from sklearn.model_selection import train_test_split, StratifiedKFold, validation_curve\n",
    "from sklearn.preprocessing import StandardScaler\n",
    "from sklearn.compose import ColumnTransformer\n",
    "from sklearn.pipeline import Pipeline\n",
    "\n",
    "# Models\n",
    "from sklearn.linear_model import LogisticRegression\n",
    "from sklearn.ensemble import RandomForestClassifier\n",
    "from xgboost import XGBClassifier\n",
    "\n",
    "# Evaluation metrics\n",
    "from sklearn.metrics import (\n",
    "    accuracy_score,\n",
    "    roc_auc_score,\n",
    "    recall_score,\n",
    "    precision_score,\n",
    "    confusion_matrix,\n",
    "    classification_report,\n",
    "    ConfusionMatrixDisplay,\n",
    "    roc_curve,\n",
    "    auc,\n",
    "    precision_recall_curve\n",
    ")\n",
    "\n",
    "# Hyperparameter tuning\n",
    "from sklearn.model_selection import RandomizedSearchCV, GridSearchCV\n",
    "from scipy.stats import randint, uniform\n",
    "\n",
    "# Utils\n",
    "import warnings\n",
    "warnings.filterwarnings(\"ignore\")\n",
    "\n",
    "# Reproducibility\n",
    "RANDOM_STATE = 42\n",
    "np.random.seed(RANDOM_STATE)\n"
   ]
  },
  {
   "cell_type": "markdown",
   "id": "9a8814b8",
   "metadata": {},
   "source": [
    "Data loading & Inspection"
   ]
  },
  {
   "cell_type": "code",
   "execution_count": 5,
   "id": "91ceb898",
   "metadata": {},
   "outputs": [
    {
     "data": {
      "text/plain": [
       "Time      0\n",
       "V1        0\n",
       "V2        0\n",
       "V3        0\n",
       "V4        0\n",
       "V5        0\n",
       "V6        0\n",
       "V7        0\n",
       "V8        0\n",
       "V9        0\n",
       "V10       0\n",
       "V11       0\n",
       "V12       0\n",
       "V13       0\n",
       "V14       0\n",
       "V15       0\n",
       "V16       0\n",
       "V17       0\n",
       "V18       0\n",
       "V19       0\n",
       "V20       0\n",
       "V21       0\n",
       "V22       0\n",
       "V23       0\n",
       "V24       0\n",
       "V25       0\n",
       "V26       0\n",
       "V27       0\n",
       "V28       0\n",
       "Amount    0\n",
       "Class     0\n",
       "dtype: int64"
      ]
     },
     "execution_count": 5,
     "metadata": {},
     "output_type": "execute_result"
    }
   ],
   "source": [
    "df = pd.read_csv('../data/creditcard.csv')\n",
    "df.isna().sum()"
   ]
  },
  {
   "cell_type": "markdown",
   "id": "6060099c",
   "metadata": {},
   "source": [
    "## Exploratory Data Analysis (EDA)\n",
    "\n",
    "We now perform a quick exploration to better understand the dataset and the target distribution.\n",
    "Since this is an imbalanced dataset, checking the target variable `Class` is crucial.\n"
   ]
  },
  {
   "cell_type": "code",
   "execution_count": null,
   "id": "fbbccaf2",
   "metadata": {},
   "outputs": [],
   "source": []
  },
  {
   "cell_type": "markdown",
   "id": "53591092",
   "metadata": {},
   "source": [
    "### EDA observations\n",
    "\n",
    "- I observe that the dataset is **highly imbalanced**: only about 0.17% of the transactions are frauds.  \n",
    "- The variable **Amount** is very skewed...  \n",
    "- The variable **Time** ...  \n",
    "\n",
    "👉 These first checks confirm that the dataset is clean (no missing values) but challenging due to the imbalance.  \n"
   ]
  },
  {
   "cell_type": "markdown",
   "id": "90e57550",
   "metadata": {},
   "source": []
  }
 ],
 "metadata": {
  "kernelspec": {
   "display_name": "Python 3",
   "language": "python",
   "name": "python3"
  },
  "language_info": {
   "codemirror_mode": {
    "name": "ipython",
    "version": 3
   },
   "file_extension": ".py",
   "mimetype": "text/x-python",
   "name": "python",
   "nbconvert_exporter": "python",
   "pygments_lexer": "ipython3",
   "version": "3.12.10"
  }
 },
 "nbformat": 4,
 "nbformat_minor": 5
}
